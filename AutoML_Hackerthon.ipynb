{
 "cells": [
  {
   "cell_type": "code",
   "execution_count": 1,
   "metadata": {
    "colab": {
     "base_uri": "https://localhost:8080/"
    },
    "id": "j3Vwc8C1YaBS",
    "outputId": "a0fa58bc-724e-402d-9167-a3ed7051d502"
   },
   "outputs": [
    {
     "name": "stdout",
     "output_type": "stream",
     "text": [
      "\u001b[33mWARNING: Skipping nvidia-ml-py3 as it is not installed.\u001b[0m\n",
      "Found existing installation: pandas-profiling 3.1.0\n",
      "Uninstalling pandas-profiling-3.1.0:\n",
      "  Successfully uninstalled pandas-profiling-3.1.0\n",
      "Found existing installation: scipy 1.7.2\n",
      "Uninstalling scipy-1.7.2:\n",
      "  Successfully uninstalled scipy-1.7.2\n",
      "Collecting scipy==1.7.2\n",
      "  Using cached scipy-1.7.2-cp37-cp37m-manylinux_2_12_x86_64.manylinux2010_x86_64.whl (38.2 MB)\n",
      "Requirement already satisfied: numpy<1.23.0,>=1.16.5 in /usr/local/lib/python3.7/dist-packages (from scipy==1.7.2) (1.19.5)\n",
      "Installing collected packages: scipy\n",
      "\u001b[31mERROR: pip's dependency resolver does not currently take into account all the packages that are installed. This behaviour is the source of the following dependency conflicts.\n",
      "fastai 1.0.61 requires nvidia-ml-py3, which is not installed.\n",
      "gym 0.17.3 requires cloudpickle<1.7.0,>=1.2.0, but you have cloudpickle 2.0.0 which is incompatible.\n",
      "albumentations 0.1.12 requires imgaug<0.2.7,>=0.2.5, but you have imgaug 0.2.9 which is incompatible.\u001b[0m\n",
      "Successfully installed scipy-1.7.2\n",
      "Collecting pandas-profiling\n",
      "  Using cached pandas_profiling-3.1.0-py2.py3-none-any.whl (261 kB)\n",
      "Requirement already satisfied: matplotlib>=3.2.0 in /usr/local/lib/python3.7/dist-packages (from pandas-profiling) (3.2.2)\n",
      "Requirement already satisfied: joblib~=1.0.1 in /usr/local/lib/python3.7/dist-packages (from pandas-profiling) (1.0.1)\n",
      "Requirement already satisfied: visions[type_image_path]==0.7.4 in /usr/local/lib/python3.7/dist-packages (from pandas-profiling) (0.7.4)\n",
      "Requirement already satisfied: tqdm>=4.48.2 in /usr/local/lib/python3.7/dist-packages (from pandas-profiling) (4.62.3)\n",
      "Requirement already satisfied: pydantic>=1.8.1 in /usr/local/lib/python3.7/dist-packages (from pandas-profiling) (1.8.2)\n",
      "Requirement already satisfied: pandas!=1.0.0,!=1.0.1,!=1.0.2,!=1.1.0,>=0.25.3 in /usr/local/lib/python3.7/dist-packages (from pandas-profiling) (1.1.5)\n",
      "Requirement already satisfied: multimethod>=1.4 in /usr/local/lib/python3.7/dist-packages (from pandas-profiling) (1.6)\n",
      "Requirement already satisfied: numpy>=1.16.0 in /usr/local/lib/python3.7/dist-packages (from pandas-profiling) (1.19.5)\n",
      "Requirement already satisfied: jinja2>=2.11.1 in /usr/local/lib/python3.7/dist-packages (from pandas-profiling) (2.11.3)\n",
      "Requirement already satisfied: seaborn>=0.10.1 in /usr/local/lib/python3.7/dist-packages (from pandas-profiling) (0.11.2)\n",
      "Requirement already satisfied: phik>=0.11.1 in /usr/local/lib/python3.7/dist-packages (from pandas-profiling) (0.12.0)\n",
      "Requirement already satisfied: requests>=2.24.0 in /usr/local/lib/python3.7/dist-packages (from pandas-profiling) (2.26.0)\n",
      "Requirement already satisfied: missingno>=0.4.2 in /usr/local/lib/python3.7/dist-packages (from pandas-profiling) (0.5.0)\n",
      "Requirement already satisfied: PyYAML>=5.0.0 in /usr/local/lib/python3.7/dist-packages (from pandas-profiling) (6.0)\n",
      "Requirement already satisfied: markupsafe~=2.0.1 in /usr/local/lib/python3.7/dist-packages (from pandas-profiling) (2.0.1)\n",
      "Requirement already satisfied: scipy>=1.4.1 in /usr/local/lib/python3.7/dist-packages (from pandas-profiling) (1.7.2)\n",
      "Requirement already satisfied: tangled-up-in-unicode==0.1.0 in /usr/local/lib/python3.7/dist-packages (from pandas-profiling) (0.1.0)\n",
      "Requirement already satisfied: htmlmin>=0.1.12 in /usr/local/lib/python3.7/dist-packages (from pandas-profiling) (0.1.12)\n",
      "Requirement already satisfied: attrs>=19.3.0 in /usr/local/lib/python3.7/dist-packages (from visions[type_image_path]==0.7.4->pandas-profiling) (21.2.0)\n",
      "Requirement already satisfied: networkx>=2.4 in /usr/local/lib/python3.7/dist-packages (from visions[type_image_path]==0.7.4->pandas-profiling) (2.6.3)\n",
      "Requirement already satisfied: Pillow in /usr/local/lib/python3.7/dist-packages (from visions[type_image_path]==0.7.4->pandas-profiling) (7.1.2)\n",
      "Requirement already satisfied: imagehash in /usr/local/lib/python3.7/dist-packages (from visions[type_image_path]==0.7.4->pandas-profiling) (4.2.1)\n",
      "Requirement already satisfied: cycler>=0.10 in /usr/local/lib/python3.7/dist-packages (from matplotlib>=3.2.0->pandas-profiling) (0.11.0)\n",
      "Requirement already satisfied: kiwisolver>=1.0.1 in /usr/local/lib/python3.7/dist-packages (from matplotlib>=3.2.0->pandas-profiling) (1.3.2)\n",
      "Requirement already satisfied: pyparsing!=2.0.4,!=2.1.2,!=2.1.6,>=2.0.1 in /usr/local/lib/python3.7/dist-packages (from matplotlib>=3.2.0->pandas-profiling) (2.4.7)\n",
      "Requirement already satisfied: python-dateutil>=2.1 in /usr/local/lib/python3.7/dist-packages (from matplotlib>=3.2.0->pandas-profiling) (2.8.2)\n",
      "Requirement already satisfied: pytz>=2017.2 in /usr/local/lib/python3.7/dist-packages (from pandas!=1.0.0,!=1.0.1,!=1.0.2,!=1.1.0,>=0.25.3->pandas-profiling) (2018.9)\n",
      "Requirement already satisfied: typing-extensions>=3.7.4.3 in /usr/local/lib/python3.7/dist-packages (from pydantic>=1.8.1->pandas-profiling) (3.10.0.2)\n",
      "Requirement already satisfied: six>=1.5 in /usr/local/lib/python3.7/dist-packages (from python-dateutil>=2.1->matplotlib>=3.2.0->pandas-profiling) (1.15.0)\n",
      "Requirement already satisfied: certifi>=2017.4.17 in /usr/local/lib/python3.7/dist-packages (from requests>=2.24.0->pandas-profiling) (2021.10.8)\n",
      "Requirement already satisfied: idna<4,>=2.5 in /usr/local/lib/python3.7/dist-packages (from requests>=2.24.0->pandas-profiling) (2.10)\n",
      "Requirement already satisfied: charset-normalizer~=2.0.0 in /usr/local/lib/python3.7/dist-packages (from requests>=2.24.0->pandas-profiling) (2.0.7)\n",
      "Requirement already satisfied: urllib3<1.27,>=1.21.1 in /usr/local/lib/python3.7/dist-packages (from requests>=2.24.0->pandas-profiling) (1.24.3)\n",
      "Requirement already satisfied: PyWavelets in /usr/local/lib/python3.7/dist-packages (from imagehash->visions[type_image_path]==0.7.4->pandas-profiling) (1.1.1)\n",
      "Installing collected packages: pandas-profiling\n",
      "Successfully installed pandas-profiling-3.1.0\n",
      "Requirement already satisfied: auto-sklearn==0.14.0 in /usr/local/lib/python3.7/dist-packages (0.14.0)\n",
      "Requirement already satisfied: joblib in /usr/local/lib/python3.7/dist-packages (from auto-sklearn==0.14.0) (1.0.1)\n",
      "Requirement already satisfied: typing-extensions in /usr/local/lib/python3.7/dist-packages (from auto-sklearn==0.14.0) (3.10.0.2)\n",
      "Requirement already satisfied: distributed<2021.07,>=2.2.0 in /usr/local/lib/python3.7/dist-packages (from auto-sklearn==0.14.0) (2021.6.2)\n",
      "Requirement already satisfied: pandas>=1.0 in /usr/local/lib/python3.7/dist-packages (from auto-sklearn==0.14.0) (1.1.5)\n",
      "Requirement already satisfied: ConfigSpace<0.5,>=0.4.14 in /usr/local/lib/python3.7/dist-packages (from auto-sklearn==0.14.0) (0.4.20)\n",
      "Requirement already satisfied: scikit-learn<0.25.0,>=0.24.0 in /usr/local/lib/python3.7/dist-packages (from auto-sklearn==0.14.0) (0.24.2)\n",
      "Requirement already satisfied: pynisher>=0.6.3 in /usr/local/lib/python3.7/dist-packages (from auto-sklearn==0.14.0) (0.6.4)\n",
      "Requirement already satisfied: threadpoolctl in /usr/local/lib/python3.7/dist-packages (from auto-sklearn==0.14.0) (3.0.0)\n",
      "Requirement already satisfied: pyrfr<0.9,>=0.8.1 in /usr/local/lib/python3.7/dist-packages (from auto-sklearn==0.14.0) (0.8.2)\n",
      "Requirement already satisfied: smac>=0.14 in /usr/local/lib/python3.7/dist-packages (from auto-sklearn==0.14.0) (1.1.1)\n",
      "Requirement already satisfied: setuptools in /usr/local/lib/python3.7/dist-packages (from auto-sklearn==0.14.0) (57.4.0)\n",
      "Requirement already satisfied: numpy>=1.9.0 in /usr/local/lib/python3.7/dist-packages (from auto-sklearn==0.14.0) (1.19.5)\n",
      "Requirement already satisfied: liac-arff in /usr/local/lib/python3.7/dist-packages (from auto-sklearn==0.14.0) (2.5.0)\n",
      "Requirement already satisfied: pyyaml in /usr/local/lib/python3.7/dist-packages (from auto-sklearn==0.14.0) (6.0)\n",
      "Requirement already satisfied: dask<2021.07 in /usr/local/lib/python3.7/dist-packages (from auto-sklearn==0.14.0) (2021.6.2)\n",
      "Requirement already satisfied: scipy>=1.7.0 in /usr/local/lib/python3.7/dist-packages (from auto-sklearn==0.14.0) (1.7.2)\n",
      "Requirement already satisfied: cython in /usr/local/lib/python3.7/dist-packages (from ConfigSpace<0.5,>=0.4.14->auto-sklearn==0.14.0) (0.29.24)\n",
      "Requirement already satisfied: pyparsing in /usr/local/lib/python3.7/dist-packages (from ConfigSpace<0.5,>=0.4.14->auto-sklearn==0.14.0) (2.4.7)\n",
      "Requirement already satisfied: cloudpickle>=1.1.1 in /usr/local/lib/python3.7/dist-packages (from dask<2021.07->auto-sklearn==0.14.0) (2.0.0)\n",
      "Requirement already satisfied: toolz>=0.8.2 in /usr/local/lib/python3.7/dist-packages (from dask<2021.07->auto-sklearn==0.14.0) (0.11.1)\n",
      "Requirement already satisfied: partd>=0.3.10 in /usr/local/lib/python3.7/dist-packages (from dask<2021.07->auto-sklearn==0.14.0) (1.2.0)\n",
      "Requirement already satisfied: fsspec>=0.6.0 in /usr/local/lib/python3.7/dist-packages (from dask<2021.07->auto-sklearn==0.14.0) (2021.11.0)\n",
      "Requirement already satisfied: zict>=0.1.3 in /usr/local/lib/python3.7/dist-packages (from distributed<2021.07,>=2.2.0->auto-sklearn==0.14.0) (2.0.0)\n",
      "Requirement already satisfied: psutil>=5.0 in /usr/local/lib/python3.7/dist-packages (from distributed<2021.07,>=2.2.0->auto-sklearn==0.14.0) (5.4.8)\n",
      "Requirement already satisfied: click>=6.6 in /usr/local/lib/python3.7/dist-packages (from distributed<2021.07,>=2.2.0->auto-sklearn==0.14.0) (7.1.2)\n",
      "Requirement already satisfied: tblib>=1.6.0 in /usr/local/lib/python3.7/dist-packages (from distributed<2021.07,>=2.2.0->auto-sklearn==0.14.0) (1.7.0)\n",
      "Requirement already satisfied: msgpack>=0.6.0 in /usr/local/lib/python3.7/dist-packages (from distributed<2021.07,>=2.2.0->auto-sklearn==0.14.0) (1.0.2)\n",
      "Requirement already satisfied: tornado>=5 in /usr/local/lib/python3.7/dist-packages (from distributed<2021.07,>=2.2.0->auto-sklearn==0.14.0) (5.1.1)\n",
      "Requirement already satisfied: sortedcontainers!=2.0.0,!=2.0.1 in /usr/local/lib/python3.7/dist-packages (from distributed<2021.07,>=2.2.0->auto-sklearn==0.14.0) (2.4.0)\n",
      "Requirement already satisfied: python-dateutil>=2.7.3 in /usr/local/lib/python3.7/dist-packages (from pandas>=1.0->auto-sklearn==0.14.0) (2.8.2)\n",
      "Requirement already satisfied: pytz>=2017.2 in /usr/local/lib/python3.7/dist-packages (from pandas>=1.0->auto-sklearn==0.14.0) (2018.9)\n",
      "Requirement already satisfied: locket in /usr/local/lib/python3.7/dist-packages (from partd>=0.3.10->dask<2021.07->auto-sklearn==0.14.0) (0.2.1)\n",
      "Requirement already satisfied: six>=1.5 in /usr/local/lib/python3.7/dist-packages (from python-dateutil>=2.7.3->pandas>=1.0->auto-sklearn==0.14.0) (1.15.0)\n",
      "Requirement already satisfied: emcee>=3.0.0 in /usr/local/lib/python3.7/dist-packages (from smac>=0.14->auto-sklearn==0.14.0) (3.1.1)\n",
      "Requirement already satisfied: heapdict in /usr/local/lib/python3.7/dist-packages (from zict>=0.1.3->distributed<2021.07,>=2.2.0->auto-sklearn==0.14.0) (1.0.1)\n"
     ]
    }
   ],
   "source": [
    "!pip uninstall --yes nvidia-ml-py3\n",
    "!pip uninstall --yes pandas-profiling\n",
    "!pip uninstall --yes scipy\n",
    "!pip install scipy==1.7.2\n",
    "!pip install pandas-profiling\n",
    "!pip install auto-sklearn==0.14.0"
   ]
  },
  {
   "cell_type": "code",
   "execution_count": 34,
   "metadata": {
    "colab": {
     "base_uri": "https://localhost:8080/"
    },
    "id": "w568RznIaUAl",
    "outputId": "be140506-6e16-4137-a687-90a8babf9604"
   },
   "outputs": [
    {
     "name": "stdout",
     "output_type": "stream",
     "text": [
      "            V1           V2           V3  ...         V98  V99  V100\n",
      "0  1819.870220 -1049.683290 -1097.551530  ...  863.381036    D     D\n",
      "1  5338.339092  -896.336093  -169.203551  ...  449.478649    B     D\n",
      "2   376.999942  -457.473122   -12.817029  ...  417.676998    D     D\n",
      "3  6633.434350 -1139.578274   562.928815  ...  502.876430    D     D\n",
      "4 -3147.858218 -1315.076756 -1640.884995  ...  377.266730    D     D\n",
      "\n",
      "[5 rows x 100 columns]\n",
      "0    DO\n",
      "1    AT\n",
      "2    DZ\n",
      "3    EF\n",
      "4    DW\n",
      "Name: class, dtype: category\n",
      "Categories (100, object): ['AB', 'AC', 'AD', 'AE', ..., 'EH', 'EI', 'EJ', 'EK']\n",
      "V1       float64\n",
      "V2       float64\n",
      "V3       float64\n",
      "V4       float64\n",
      "V5       float64\n",
      "          ...   \n",
      "V96      float64\n",
      "V97      float64\n",
      "V98      float64\n",
      "V99     category\n",
      "V100    category\n",
      "Length: 100, dtype: object\n"
     ]
    }
   ],
   "source": [
    "import pandas as pd\n",
    "import sklearn.model_selection\n",
    "from sklearn.preprocessing import LabelEncoder\n",
    "\n",
    "# read train set\n",
    "data_train = pd.read_csv('data_train.csv')\n",
    "\n",
    "# preprocess\n",
    "# replace nan values with zeros\n",
    "data_train.fillna(0)\n",
    "\n",
    "# convert object dtypes to categorial\n",
    "obj_columns = data_train.select_dtypes(['object']).columns\n",
    "for col in obj_columns:\n",
    "    data_train[col] = data_train[col].astype('category')\n",
    "\n",
    "X = data_train.drop(\"class\", 1) # Feature Matrix\n",
    "y = data_train[\"class\"]         # Labels\n",
    "\n",
    "# split data into train and test sets\n",
    "X_train, X_test, y_train, y_test = sklearn.model_selection.train_test_split(\n",
    "    X, y, test_size=0.33, random_state=3\n",
    ")"
   ]
  },
  {
   "cell_type": "code",
   "execution_count": 35,
   "metadata": {
    "colab": {
     "base_uri": "https://localhost:8080/"
    },
    "id": "yoj9O702rc9a",
    "outputId": "56207f5f-68e6-4b16-d9c5-0ed17990f8a6"
   },
   "outputs": [
    {
     "name": "stderr",
     "output_type": "stream",
     "text": [
      "/usr/local/lib/python3.7/dist-packages/distributed/node.py:164: UserWarning: Port 8787 is already in use.\n",
      "Perhaps you already have a cluster running?\n",
      "Hosting the HTTP server on port 45617 instead\n",
      "  expected, actual\n"
     ]
    },
    {
     "data": {
      "text/plain": [
       "AutoSklearnClassifier(include={'classifier': ['random_forest', 'adaboost',\n",
       "                                              'gaussian_nb', 'sgd',\n",
       "                                              'gradient_boosting']},\n",
       "                      memory_limit=4096, metric=accuracy, n_jobs=-1,\n",
       "                      per_run_time_limit=180,\n",
       "                      resampling_strategy='holdout-iterative-fit',\n",
       "                      time_left_for_this_task=900)"
      ]
     },
     "execution_count": 35,
     "metadata": {},
     "output_type": "execute_result"
    }
   ],
   "source": [
    "import autosklearn.classification\n",
    "import autosklearn.metrics\n",
    "\n",
    "# Create and train an ensemble with AutoML \n",
    "estimator_askl = autosklearn.classification.AutoSklearnClassifier(\n",
    "    time_left_for_this_task=15*60, # in seconds\n",
    "    resampling_strategy='holdout-iterative-fit',\n",
    "    memory_limit=4096,\n",
    "    metric=autosklearn.metrics.accuracy,\n",
    "    n_jobs=-1,\n",
    "    include={\n",
    "        'classifier': ['random_forest', 'adaboost', 'gaussian_nb', 'sgd', 'gradient_boosting']\n",
    "    },\n",
    ")\n",
    "\n",
    "estimator_askl.fit(X=X_train, y=y_train, dataset_name='unknown', X_test=X_test, y_test=y_test)"
   ]
  },
  {
   "cell_type": "code",
   "execution_count": 36,
   "metadata": {
    "colab": {
     "base_uri": "https://localhost:8080/"
    },
    "id": "4Ec3KUkosMOI",
    "outputId": "93e71f12-c51e-4722-f77a-5e1bfa87ee44"
   },
   "outputs": [
    {
     "name": "stdout",
     "output_type": "stream",
     "text": [
      "['DO' 'AT' 'DZ' ... 'CW' 'DF' 'AH']\n",
      "0        DO\n",
      "1        AT\n",
      "2        DZ\n",
      "3        EF\n",
      "4        DW\n",
      "         ..\n",
      "49995    CK\n",
      "49996    EH\n",
      "49997    CW\n",
      "49998    BW\n",
      "49999    AH\n",
      "Name: class, Length: 50000, dtype: category\n",
      "Categories (100, object): ['AB', 'AC', 'AD', 'AE', ..., 'EH', 'EI', 'EJ', 'EK']\n",
      "Accuracy 0.7315\n",
      "[(0.300000, SimpleClassificationPipeline({'balancing:strategy': 'weighting', 'classifier:__choice__': 'gaussian_nb', 'data_preprocessor:__choice__': 'feature_type', 'feature_preprocessor:__choice__': 'select_rates_classification', 'data_preprocessor:feature_type:categorical_transformer:categorical_encoding:__choice__': 'encoding', 'data_preprocessor:feature_type:categorical_transformer:category_coalescence:__choice__': 'minority_coalescer', 'data_preprocessor:feature_type:numerical_transformer:imputation:strategy': 'most_frequent', 'data_preprocessor:feature_type:numerical_transformer:rescaling:__choice__': 'normalize', 'feature_preprocessor:select_rates_classification:alpha': 0.12454333478222859, 'feature_preprocessor:select_rates_classification:score_func': 'mutual_info_classif', 'data_preprocessor:feature_type:categorical_transformer:category_coalescence:minority_coalescer:minimum_fraction': 0.00024726055197313946},\n",
      "dataset_properties={\n",
      "  'task': 2,\n",
      "  'sparse': False,\n",
      "  'multilabel': False,\n",
      "  'multiclass': True,\n",
      "  'target_type': 'classification',\n",
      "  'signed': False})),\n",
      "(0.260000, SimpleClassificationPipeline({'balancing:strategy': 'weighting', 'classifier:__choice__': 'gaussian_nb', 'data_preprocessor:__choice__': 'feature_type', 'feature_preprocessor:__choice__': 'no_preprocessing', 'data_preprocessor:feature_type:categorical_transformer:categorical_encoding:__choice__': 'no_encoding', 'data_preprocessor:feature_type:categorical_transformer:category_coalescence:__choice__': 'no_coalescense', 'data_preprocessor:feature_type:numerical_transformer:imputation:strategy': 'median', 'data_preprocessor:feature_type:numerical_transformer:rescaling:__choice__': 'none'},\n",
      "dataset_properties={\n",
      "  'task': 2,\n",
      "  'sparse': False,\n",
      "  'multilabel': False,\n",
      "  'multiclass': True,\n",
      "  'target_type': 'classification',\n",
      "  'signed': False})),\n",
      "(0.140000, SimpleClassificationPipeline({'balancing:strategy': 'weighting', 'classifier:__choice__': 'gaussian_nb', 'data_preprocessor:__choice__': 'feature_type', 'feature_preprocessor:__choice__': 'no_preprocessing', 'data_preprocessor:feature_type:categorical_transformer:categorical_encoding:__choice__': 'encoding', 'data_preprocessor:feature_type:categorical_transformer:category_coalescence:__choice__': 'minority_coalescer', 'data_preprocessor:feature_type:numerical_transformer:imputation:strategy': 'median', 'data_preprocessor:feature_type:numerical_transformer:rescaling:__choice__': 'standardize', 'data_preprocessor:feature_type:categorical_transformer:category_coalescence:minority_coalescer:minimum_fraction': 0.0017527767121312894},\n",
      "dataset_properties={\n",
      "  'task': 2,\n",
      "  'sparse': False,\n",
      "  'multilabel': False,\n",
      "  'multiclass': True,\n",
      "  'target_type': 'classification',\n",
      "  'signed': False})),\n",
      "(0.120000, SimpleClassificationPipeline({'balancing:strategy': 'weighting', 'classifier:__choice__': 'gaussian_nb', 'data_preprocessor:__choice__': 'feature_type', 'feature_preprocessor:__choice__': 'extra_trees_preproc_for_classification', 'data_preprocessor:feature_type:categorical_transformer:categorical_encoding:__choice__': 'encoding', 'data_preprocessor:feature_type:categorical_transformer:category_coalescence:__choice__': 'minority_coalescer', 'data_preprocessor:feature_type:numerical_transformer:imputation:strategy': 'median', 'data_preprocessor:feature_type:numerical_transformer:rescaling:__choice__': 'none', 'feature_preprocessor:extra_trees_preproc_for_classification:bootstrap': 'False', 'feature_preprocessor:extra_trees_preproc_for_classification:criterion': 'entropy', 'feature_preprocessor:extra_trees_preproc_for_classification:max_depth': 'None', 'feature_preprocessor:extra_trees_preproc_for_classification:max_features': 0.13881777977422194, 'feature_preprocessor:extra_trees_preproc_for_classification:max_leaf_nodes': 'None', 'feature_preprocessor:extra_trees_preproc_for_classification:min_impurity_decrease': 0.0, 'feature_preprocessor:extra_trees_preproc_for_classification:min_samples_leaf': 15, 'feature_preprocessor:extra_trees_preproc_for_classification:min_samples_split': 20, 'feature_preprocessor:extra_trees_preproc_for_classification:min_weight_fraction_leaf': 0.0, 'feature_preprocessor:extra_trees_preproc_for_classification:n_estimators': 100, 'data_preprocessor:feature_type:categorical_transformer:category_coalescence:minority_coalescer:minimum_fraction': 0.05206693839874919},\n",
      "dataset_properties={\n",
      "  'task': 2,\n",
      "  'sparse': False,\n",
      "  'multilabel': False,\n",
      "  'multiclass': True,\n",
      "  'target_type': 'classification',\n",
      "  'signed': False})),\n",
      "(0.120000, SimpleClassificationPipeline({'balancing:strategy': 'none', 'classifier:__choice__': 'gaussian_nb', 'data_preprocessor:__choice__': 'feature_type', 'feature_preprocessor:__choice__': 'fast_ica', 'data_preprocessor:feature_type:categorical_transformer:categorical_encoding:__choice__': 'encoding', 'data_preprocessor:feature_type:categorical_transformer:category_coalescence:__choice__': 'minority_coalescer', 'data_preprocessor:feature_type:numerical_transformer:imputation:strategy': 'median', 'data_preprocessor:feature_type:numerical_transformer:rescaling:__choice__': 'robust_scaler', 'feature_preprocessor:fast_ica:algorithm': 'deflation', 'feature_preprocessor:fast_ica:fun': 'cube', 'feature_preprocessor:fast_ica:whiten': 'False', 'data_preprocessor:feature_type:categorical_transformer:category_coalescence:minority_coalescer:minimum_fraction': 0.0068887747965683975, 'data_preprocessor:feature_type:numerical_transformer:rescaling:robust_scaler:q_max': 0.7327419983134043, 'data_preprocessor:feature_type:numerical_transformer:rescaling:robust_scaler:q_min': 0.23524373398333465},\n",
      "dataset_properties={\n",
      "  'task': 2,\n",
      "  'sparse': False,\n",
      "  'multilabel': False,\n",
      "  'multiclass': True,\n",
      "  'target_type': 'classification',\n",
      "  'signed': False})),\n",
      "(0.040000, SimpleClassificationPipeline({'balancing:strategy': 'none', 'classifier:__choice__': 'gaussian_nb', 'data_preprocessor:__choice__': 'feature_type', 'feature_preprocessor:__choice__': 'select_rates_classification', 'data_preprocessor:feature_type:categorical_transformer:categorical_encoding:__choice__': 'no_encoding', 'data_preprocessor:feature_type:categorical_transformer:category_coalescence:__choice__': 'minority_coalescer', 'data_preprocessor:feature_type:numerical_transformer:imputation:strategy': 'most_frequent', 'data_preprocessor:feature_type:numerical_transformer:rescaling:__choice__': 'power_transformer', 'feature_preprocessor:select_rates_classification:alpha': 0.3900972031492498, 'feature_preprocessor:select_rates_classification:score_func': 'chi2', 'data_preprocessor:feature_type:categorical_transformer:category_coalescence:minority_coalescer:minimum_fraction': 0.23122590218126599, 'feature_preprocessor:select_rates_classification:mode': 'fpr'},\n",
      "dataset_properties={\n",
      "  'task': 2,\n",
      "  'sparse': False,\n",
      "  'multilabel': False,\n",
      "  'multiclass': True,\n",
      "  'target_type': 'classification',\n",
      "  'signed': False})),\n",
      "(0.020000, SimpleClassificationPipeline({'balancing:strategy': 'weighting', 'classifier:__choice__': 'gaussian_nb', 'data_preprocessor:__choice__': 'feature_type', 'feature_preprocessor:__choice__': 'extra_trees_preproc_for_classification', 'data_preprocessor:feature_type:categorical_transformer:categorical_encoding:__choice__': 'encoding', 'data_preprocessor:feature_type:categorical_transformer:category_coalescence:__choice__': 'no_coalescense', 'data_preprocessor:feature_type:numerical_transformer:imputation:strategy': 'mean', 'data_preprocessor:feature_type:numerical_transformer:rescaling:__choice__': 'power_transformer', 'feature_preprocessor:extra_trees_preproc_for_classification:bootstrap': 'True', 'feature_preprocessor:extra_trees_preproc_for_classification:criterion': 'gini', 'feature_preprocessor:extra_trees_preproc_for_classification:max_depth': 'None', 'feature_preprocessor:extra_trees_preproc_for_classification:max_features': 0.880920651132008, 'feature_preprocessor:extra_trees_preproc_for_classification:max_leaf_nodes': 'None', 'feature_preprocessor:extra_trees_preproc_for_classification:min_impurity_decrease': 0.0, 'feature_preprocessor:extra_trees_preproc_for_classification:min_samples_leaf': 20, 'feature_preprocessor:extra_trees_preproc_for_classification:min_samples_split': 2, 'feature_preprocessor:extra_trees_preproc_for_classification:min_weight_fraction_leaf': 0.0, 'feature_preprocessor:extra_trees_preproc_for_classification:n_estimators': 100},\n",
      "dataset_properties={\n",
      "  'task': 2,\n",
      "  'sparse': False,\n",
      "  'multilabel': False,\n",
      "  'multiclass': True,\n",
      "  'target_type': 'classification',\n",
      "  'signed': False})),\n",
      "]\n"
     ]
    }
   ],
   "source": [
    "from sklearn.metrics import accuracy_score\n",
    "\n",
    "# predict on dataset \n",
    "predictions = estimator_askl.predict(X)\n",
    "print('Predictions',predictions)\n",
    "print('Expected', y)\n",
    "performance_askl = accuracy_score(predictions, y)\n",
    "print('Accuracy',performance_askl)"
   ]
  },
  {
   "cell_type": "code",
   "execution_count": 38,
   "metadata": {
    "colab": {
     "base_uri": "https://localhost:8080/"
    },
    "id": "SgLEXkrJ78n3",
    "outputId": "a98437af-badb-4a00-f9ba-bfb5b108939b"
   },
   "outputs": [
    {
     "name": "stdout",
     "output_type": "stream",
     "text": [
      "auto-sklearn results:\n",
      "  Dataset name: unknown\n",
      "  Metric: accuracy\n",
      "  Best validation score: 0.680687\n",
      "  Number of target algorithm runs: 65\n",
      "  Number of successful target algorithm runs: 22\n",
      "  Number of crashed target algorithm runs: 34\n",
      "  Number of target algorithms that exceeded the time limit: 7\n",
      "  Number of target algorithms that exceeded the memory limit: 2\n",
      "\n"
     ]
    }
   ],
   "source": [
    "# estimator statistics\n",
    "print(estimator_askl.sprint_statistics())"
   ]
  },
  {
   "cell_type": "code",
   "execution_count": 39,
   "metadata": {
    "colab": {
     "base_uri": "https://localhost:8080/"
    },
    "id": "OygkmeFswqpJ",
    "outputId": "9aa811b1-21a8-4e9d-f5e5-29ad32be18ef"
   },
   "outputs": [
    {
     "name": "stdout",
     "output_type": "stream",
     "text": [
      "                 V1           V2           V3  ...         V98  V99  V100\n",
      "0      10275.506530  -780.853355   161.272602  ...  558.913914    E     D\n",
      "1        122.679569   450.357149    10.080290  ...  384.783132    D     D\n",
      "2       4218.142745  -324.683204  -286.366977  ...  430.025897    C     D\n",
      "3        -89.375203  -312.942748  -457.068004  ...  444.067717    E     D\n",
      "4       6711.263646  -601.601567  -259.638255  ...  476.498303    C     D\n",
      "...             ...          ...          ...  ...         ...  ...   ...\n",
      "66233  -9099.126809 -1892.371657  3162.288301  ...  111.966724    F     D\n",
      "66234    704.060897   -99.375285   455.823393  ...  579.461630    D     D\n",
      "66235   -363.026044  -362.748056 -1225.226010  ...  582.998352    E     D\n",
      "66236   1862.240866  -363.448544  -296.160499  ...  503.231474    D     D\n",
      "66237  28944.148082   175.777220 -1171.402632  ...  435.696238    D     E\n",
      "\n",
      "[66238 rows x 100 columns]\n"
     ]
    }
   ],
   "source": [
    "import pandas as pd \n",
    "\n",
    "# read test set\n",
    "data_test = pd.read_csv('data_test.csv')\n",
    "\n",
    "# delete last column, last column contains id's which are not needed\n",
    "X_test = data_test.iloc[:,:-1]\n",
    "\n",
    "# convert object column types to category\n",
    "cat_columns = X_test.select_dtypes(['object']).columns\n",
    "for col in cat_columns:\n",
    "    X_test[col] = X_test[col].astype('category')\n",
    "\n",
    "# predict on the test set\n",
    "predictions = estimator_askl.predict(X_test)"
   ]
  },
  {
   "cell_type": "code",
   "execution_count": 40,
   "metadata": {
    "colab": {
     "base_uri": "https://localhost:8080/"
    },
    "id": "7SxCTkODw16R",
    "outputId": "772290b2-95b2-4fef-b51a-f83c6c426bc2"
   },
   "outputs": [
    {
     "name": "stdout",
     "output_type": "stream",
     "text": [
      "          id Predicted\n",
      "0          1        BS\n",
      "1          2        AF\n",
      "2          3        DK\n",
      "3          4        AN\n",
      "4          5        AT\n",
      "...      ...       ...\n",
      "66233  66234        DO\n",
      "66234  66235        AN\n",
      "66235  66236        BM\n",
      "66236  66237        DY\n",
      "66237  66238        BV\n",
      "\n",
      "[66238 rows x 2 columns]\n"
     ]
    }
   ],
   "source": [
    "# create a dataframe for submission\n",
    "pred_df = pd.DataFrame(predictions, columns=['Predicted'])\n",
    "results = pd.concat([data_test['id'], pred_df], axis=1)\n",
    "print(results)"
   ]
  },
  {
   "cell_type": "code",
   "execution_count": 41,
   "metadata": {
    "id": "ekktMx5Yw9DR"
   },
   "outputs": [],
   "source": [
    "# export results to csv-file\n",
    "results.to_csv('result5.csv',index=False)"
   ]
  },
  {
   "cell_type": "code",
   "execution_count": 42,
   "metadata": {
    "colab": {
     "base_uri": "https://localhost:8080/",
     "height": 399
    },
    "id": "cL9xNB8Y9jif",
    "outputId": "a78bf696-f779-4945-8fc9-7900747cfbd8"
   },
   "outputs": [
    {
     "data": {
      "text/html": [
       "<div>\n",
       "<style scoped>\n",
       "    .dataframe tbody tr th:only-of-type {\n",
       "        vertical-align: middle;\n",
       "    }\n",
       "\n",
       "    .dataframe tbody tr th {\n",
       "        vertical-align: top;\n",
       "    }\n",
       "\n",
       "    .dataframe thead th {\n",
       "        text-align: right;\n",
       "    }\n",
       "</style>\n",
       "<table border=\"1\" class=\"dataframe\">\n",
       "  <thead>\n",
       "    <tr style=\"text-align: right;\">\n",
       "      <th></th>\n",
       "      <th>rank</th>\n",
       "      <th>ensemble_weight</th>\n",
       "      <th>type</th>\n",
       "      <th>cost</th>\n",
       "      <th>duration</th>\n",
       "      <th>config_id</th>\n",
       "      <th>train_loss</th>\n",
       "      <th>seed</th>\n",
       "      <th>start_time</th>\n",
       "      <th>end_time</th>\n",
       "      <th>budget</th>\n",
       "      <th>status</th>\n",
       "      <th>data_preprocessors</th>\n",
       "      <th>feature_preprocessors</th>\n",
       "      <th>balancing_strategy</th>\n",
       "      <th>config_origin</th>\n",
       "    </tr>\n",
       "    <tr>\n",
       "      <th>model_id</th>\n",
       "      <th></th>\n",
       "      <th></th>\n",
       "      <th></th>\n",
       "      <th></th>\n",
       "      <th></th>\n",
       "      <th></th>\n",
       "      <th></th>\n",
       "      <th></th>\n",
       "      <th></th>\n",
       "      <th></th>\n",
       "      <th></th>\n",
       "      <th></th>\n",
       "      <th></th>\n",
       "      <th></th>\n",
       "      <th></th>\n",
       "      <th></th>\n",
       "    </tr>\n",
       "  </thead>\n",
       "  <tbody>\n",
       "    <tr>\n",
       "      <th>63</th>\n",
       "      <td>1</td>\n",
       "      <td>0.14</td>\n",
       "      <td>gaussian_nb</td>\n",
       "      <td>0.319313</td>\n",
       "      <td>12.821567</td>\n",
       "      <td>62</td>\n",
       "      <td>0.242816</td>\n",
       "      <td>0</td>\n",
       "      <td>1.636646e+09</td>\n",
       "      <td>1.636646e+09</td>\n",
       "      <td>0.0</td>\n",
       "      <td>StatusType.SUCCESS</td>\n",
       "      <td>[]</td>\n",
       "      <td>[no_preprocessing]</td>\n",
       "      <td>weighting</td>\n",
       "      <td>Local Search</td>\n",
       "    </tr>\n",
       "    <tr>\n",
       "      <th>48</th>\n",
       "      <td>2</td>\n",
       "      <td>0.02</td>\n",
       "      <td>gaussian_nb</td>\n",
       "      <td>0.408141</td>\n",
       "      <td>27.283537</td>\n",
       "      <td>47</td>\n",
       "      <td>0.366763</td>\n",
       "      <td>0</td>\n",
       "      <td>1.636646e+09</td>\n",
       "      <td>1.636646e+09</td>\n",
       "      <td>0.0</td>\n",
       "      <td>StatusType.SUCCESS</td>\n",
       "      <td>[]</td>\n",
       "      <td>[extra_trees_preproc_for_classification]</td>\n",
       "      <td>weighting</td>\n",
       "      <td>Random Search</td>\n",
       "    </tr>\n",
       "    <tr>\n",
       "      <th>46</th>\n",
       "      <td>3</td>\n",
       "      <td>0.04</td>\n",
       "      <td>gaussian_nb</td>\n",
       "      <td>0.520308</td>\n",
       "      <td>17.206369</td>\n",
       "      <td>45</td>\n",
       "      <td>0.448251</td>\n",
       "      <td>0</td>\n",
       "      <td>1.636646e+09</td>\n",
       "      <td>1.636646e+09</td>\n",
       "      <td>0.0</td>\n",
       "      <td>StatusType.SUCCESS</td>\n",
       "      <td>[]</td>\n",
       "      <td>[select_rates_classification]</td>\n",
       "      <td>none</td>\n",
       "      <td>Random Search</td>\n",
       "    </tr>\n",
       "    <tr>\n",
       "      <th>36</th>\n",
       "      <td>4</td>\n",
       "      <td>0.12</td>\n",
       "      <td>gaussian_nb</td>\n",
       "      <td>0.633921</td>\n",
       "      <td>7.969635</td>\n",
       "      <td>35</td>\n",
       "      <td>0.608911</td>\n",
       "      <td>0</td>\n",
       "      <td>1.636646e+09</td>\n",
       "      <td>1.636646e+09</td>\n",
       "      <td>0.0</td>\n",
       "      <td>StatusType.SUCCESS</td>\n",
       "      <td>[]</td>\n",
       "      <td>[extra_trees_preproc_for_classification]</td>\n",
       "      <td>weighting</td>\n",
       "      <td>Random Search (sorted)</td>\n",
       "    </tr>\n",
       "    <tr>\n",
       "      <th>64</th>\n",
       "      <td>5</td>\n",
       "      <td>0.12</td>\n",
       "      <td>gaussian_nb</td>\n",
       "      <td>0.638987</td>\n",
       "      <td>52.135037</td>\n",
       "      <td>63</td>\n",
       "      <td>0.522121</td>\n",
       "      <td>0</td>\n",
       "      <td>1.636646e+09</td>\n",
       "      <td>1.636646e+09</td>\n",
       "      <td>0.0</td>\n",
       "      <td>StatusType.SUCCESS</td>\n",
       "      <td>[]</td>\n",
       "      <td>[fast_ica]</td>\n",
       "      <td>none</td>\n",
       "      <td>Local Search</td>\n",
       "    </tr>\n",
       "    <tr>\n",
       "      <th>32</th>\n",
       "      <td>6</td>\n",
       "      <td>0.26</td>\n",
       "      <td>gaussian_nb</td>\n",
       "      <td>0.883401</td>\n",
       "      <td>8.382097</td>\n",
       "      <td>31</td>\n",
       "      <td>0.872667</td>\n",
       "      <td>0</td>\n",
       "      <td>1.636646e+09</td>\n",
       "      <td>1.636646e+09</td>\n",
       "      <td>0.0</td>\n",
       "      <td>StatusType.SUCCESS</td>\n",
       "      <td>[]</td>\n",
       "      <td>[no_preprocessing]</td>\n",
       "      <td>weighting</td>\n",
       "      <td>Random Search (sorted)</td>\n",
       "    </tr>\n",
       "    <tr>\n",
       "      <th>42</th>\n",
       "      <td>7</td>\n",
       "      <td>0.30</td>\n",
       "      <td>gaussian_nb</td>\n",
       "      <td>0.943645</td>\n",
       "      <td>45.561078</td>\n",
       "      <td>41</td>\n",
       "      <td>0.944531</td>\n",
       "      <td>0</td>\n",
       "      <td>1.636646e+09</td>\n",
       "      <td>1.636646e+09</td>\n",
       "      <td>0.0</td>\n",
       "      <td>StatusType.SUCCESS</td>\n",
       "      <td>[]</td>\n",
       "      <td>[select_rates_classification]</td>\n",
       "      <td>weighting</td>\n",
       "      <td>Random Search (sorted)</td>\n",
       "    </tr>\n",
       "  </tbody>\n",
       "</table>\n",
       "</div>"
      ],
      "text/plain": [
       "          rank  ensemble_weight  ... balancing_strategy           config_origin\n",
       "model_id                         ...                                           \n",
       "63           1             0.14  ...          weighting            Local Search\n",
       "48           2             0.02  ...          weighting           Random Search\n",
       "46           3             0.04  ...               none           Random Search\n",
       "36           4             0.12  ...          weighting  Random Search (sorted)\n",
       "64           5             0.12  ...               none            Local Search\n",
       "32           6             0.26  ...          weighting  Random Search (sorted)\n",
       "42           7             0.30  ...          weighting  Random Search (sorted)\n",
       "\n",
       "[7 rows x 16 columns]"
      ]
     },
     "execution_count": 42,
     "metadata": {},
     "output_type": "execute_result"
    }
   ],
   "source": [
    "# details of the estimator\n",
    "estimator_askl.leaderboard(detailed=True)"
   ]
  },
  {
   "cell_type": "code",
   "execution_count": 43,
   "metadata": {
    "colab": {
     "base_uri": "https://localhost:8080/"
    },
    "id": "JxOCmgR6-FzI",
    "outputId": "0bd39bf4-9a01-4ecc-ae43-d85dd2ee1bde"
   },
   "outputs": [
    {
     "name": "stdout",
     "output_type": "stream",
     "text": [
      "0.7315\n"
     ]
    }
   ],
   "source": [
    "# print estimator accuracy\n",
    "print(estimator_askl.score(X,y))"
   ]
  },
  {
   "cell_type": "code",
   "execution_count": 44,
   "metadata": {
    "id": "DblPP_KfPzJe"
   },
   "outputs": [],
   "source": [
    "# code to export trained model\n",
    "import pickle\n",
    "\n",
    "filename = 'model5.sav'\n",
    "pickle.dump(estimator_askl, open(filename, 'wb'))"
   ]
  },
  {
   "cell_type": "code",
   "execution_count": 45,
   "metadata": {
    "colab": {
     "base_uri": "https://localhost:8080/"
    },
    "id": "z4Xn-2r6P0Xz",
    "outputId": "f612513f-0420-46fa-da3a-abdb836b1048"
   },
   "outputs": [
    {
     "name": "stdout",
     "output_type": "stream",
     "text": [
      "AutoSklearnClassifier(include={'classifier': ['random_forest', 'adaboost',\n",
      "                                              'gaussian_nb', 'sgd',\n",
      "                                              'gradient_boosting']},\n",
      "                      memory_limit=4096, metric=accuracy, n_jobs=-1,\n",
      "                      per_run_time_limit=180,\n",
      "                      resampling_strategy='holdout-iterative-fit',\n",
      "                      time_left_for_this_task=900)\n",
      "          rank  ensemble_weight         type      cost   duration\n",
      "model_id                                                         \n",
      "63           1             0.14  gaussian_nb  0.319313  12.821567\n",
      "48           2             0.02  gaussian_nb  0.408141  27.283537\n",
      "46           3             0.04  gaussian_nb  0.520308  17.206369\n",
      "36           4             0.12  gaussian_nb  0.633921   7.969635\n",
      "64           5             0.12  gaussian_nb  0.638987  52.135037\n",
      "32           6             0.26  gaussian_nb  0.883401   8.382097\n",
      "42           7             0.30  gaussian_nb  0.943645  45.561078\n",
      "0.7315\n"
     ]
    }
   ],
   "source": [
    "from sklearn.metrics import accuracy_score\n",
    "\n",
    "# code to import trained model\n",
    "loaded_model = pickle.load(open(filename, 'rb'))\n",
    "predictions = loaded_model.predict(X)\n",
    "performance_askl = accuracy_score(predictions, y)\n",
    "\n",
    "# print statistics of the loaded model\n",
    "print(loaded_model)\n",
    "print(loaded_model.leaderboard())\n",
    "print(performance_askl)"
   ]
  }
 ],
 "metadata": {
  "colab": {
   "collapsed_sections": [],
   "name": "AutoML_Hackerthon.ipynb",
   "provenance": []
  },
  "kernelspec": {
   "display_name": "Python 3 (ipykernel)",
   "language": "python",
   "name": "python3"
  },
  "language_info": {
   "codemirror_mode": {
    "name": "ipython",
    "version": 3
   },
   "file_extension": ".py",
   "mimetype": "text/x-python",
   "name": "python",
   "nbconvert_exporter": "python",
   "pygments_lexer": "ipython3",
   "version": "3.8.12"
  }
 },
 "nbformat": 4,
 "nbformat_minor": 1
}
